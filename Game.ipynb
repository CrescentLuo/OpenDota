{
 "cells": [
  {
   "cell_type": "code",
   "execution_count": 22,
   "metadata": {},
   "outputs": [
    {
     "name": "stdout",
     "output_type": "stream",
     "text": [
      "{'match_id': 7073985497, 'player_slot': 130, 'radiant_win': False, 'duration': 2178, 'game_mode': 22, 'lobby_type': 7, 'hero_id': 108, 'start_time': 1679586535, 'version': None, 'kills': 6, 'deaths': 0, 'assists': 17, 'skill': None, 'average_rank': 22, 'leaver_status': 0, 'party_size': 1}\n"
     ]
    },
    {
     "name": "stderr",
     "output_type": "stream",
     "text": [
      " 17%|█▋        | 647/3896 [00:23<02:39, 20.42it/s] "
     ]
    }
   ],
   "source": [
    "# Import libraries\n",
    "import requests\n",
    "import pandas as pd\n",
    "import json\n",
    "import tqdm\n",
    "import time\n",
    "from pathlib import Path\n",
    "\n",
    "\n",
    "# Define parameters\n",
    "user_account_id = \"212715666\" # Replace with your own 32-bit account ID\n",
    "start_date = \"2022-12-01\" # Replace with your desired start date\n",
    "end_date = \"2023-12-31\" # Replace with your desired end date\n",
    "#patch = \"7.33d\" # Replace with your desired patch version\n",
    "limit = 10 # Replace with your desired number of results\n",
    "\n",
    "# Get match history of the user\n",
    "match_history_url = f\"https://api.opendota.com/api/players/{user_account_id}/matches\"\n",
    "match_history_params = {\n",
    "    \"date_min\": start_date,\n",
    "    \"date_max\": end_date,\n",
    "}\n",
    "match_history_response = requests.get(match_history_url, params=match_history_params)\n",
    "match_history_data = match_history_response.json()\n",
    "print(match_history_data[0])\n",
    "\n",
    "# Get match IDs of the user\n",
    "\n",
    "for match in tqdm.tqdm(match_history_data):\n",
    "    match_id = match[\"match_id\"]\n",
    "    \n",
    "    file_path = Path(\"data/{}.json\".format(match_id))\n",
    "    if file_path.is_file():\n",
    "        pass\n",
    "    else:\n",
    "        matches_url = f\"https://api.opendota.com/api/matches/{match_id}\".format(match_id)\n",
    "        matches_response = requests.get(matches_url)\n",
    "        matches_data = matches_response.json()\n",
    "        with open('data/{}.json'.format(match_id), 'w') as f:\n",
    "            json.dump(matches_data,f)\n",
    "            time.sleep(0.5)"
   ]
  },
  {
   "cell_type": "code",
   "execution_count": null,
   "metadata": {},
   "outputs": [],
   "source": []
  }
 ],
 "metadata": {
  "kernelspec": {
   "display_name": "defcomp",
   "language": "python",
   "name": "python3"
  },
  "language_info": {
   "codemirror_mode": {
    "name": "ipython",
    "version": 3
   },
   "file_extension": ".py",
   "mimetype": "text/x-python",
   "name": "python",
   "nbconvert_exporter": "python",
   "pygments_lexer": "ipython3",
   "version": "3.11.0"
  },
  "orig_nbformat": 4
 },
 "nbformat": 4,
 "nbformat_minor": 2
}
